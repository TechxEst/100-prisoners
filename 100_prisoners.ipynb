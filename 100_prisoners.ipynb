{
 "cells": [
  {
   "cell_type": "code",
   "execution_count": 1,
   "id": "f619eaaf",
   "metadata": {},
   "outputs": [
    {
     "name": "stdout",
     "output_type": "stream",
     "text": [
      "Requirement already satisfied: numpy in /opt/homebrew/lib/python3.10/site-packages (1.23.3)\n",
      "\n",
      "\u001b[1m[\u001b[0m\u001b[34;49mnotice\u001b[0m\u001b[1;39;49m]\u001b[0m\u001b[39;49m A new release of pip available: \u001b[0m\u001b[31;49m22.2.2\u001b[0m\u001b[39;49m -> \u001b[0m\u001b[32;49m22.3\u001b[0m\n",
      "\u001b[1m[\u001b[0m\u001b[34;49mnotice\u001b[0m\u001b[1;39;49m]\u001b[0m\u001b[39;49m To update, run: \u001b[0m\u001b[32;49mpython3.10 -m pip install --upgrade pip\u001b[0m\n",
      "Requirement already satisfied: matplotlib in /opt/homebrew/Cellar/jupyterlab/3.4.5/libexec/lib/python3.10/site-packages (3.6.1)\n",
      "Requirement already satisfied: pillow>=6.2.0 in /opt/homebrew/Cellar/jupyterlab/3.4.5/libexec/lib/python3.10/site-packages (from matplotlib) (9.2.0)\n",
      "Requirement already satisfied: cycler>=0.10 in /opt/homebrew/Cellar/jupyterlab/3.4.5/libexec/lib/python3.10/site-packages (from matplotlib) (0.11.0)\n",
      "Requirement already satisfied: kiwisolver>=1.0.1 in /opt/homebrew/Cellar/jupyterlab/3.4.5/libexec/lib/python3.10/site-packages (from matplotlib) (1.4.4)\n",
      "Requirement already satisfied: numpy>=1.19 in /opt/homebrew/lib/python3.10/site-packages (from matplotlib) (1.23.3)\n",
      "Requirement already satisfied: pyparsing>=2.2.1 in /opt/homebrew/Cellar/jupyterlab/3.4.5/libexec/lib/python3.10/site-packages (from matplotlib) (3.0.9)\n",
      "Requirement already satisfied: packaging>=20.0 in /opt/homebrew/Cellar/jupyterlab/3.4.5/libexec/lib/python3.10/site-packages (from matplotlib) (21.3)\n",
      "Requirement already satisfied: contourpy>=1.0.1 in /opt/homebrew/Cellar/jupyterlab/3.4.5/libexec/lib/python3.10/site-packages (from matplotlib) (1.0.5)\n",
      "Requirement already satisfied: fonttools>=4.22.0 in /opt/homebrew/Cellar/jupyterlab/3.4.5/libexec/lib/python3.10/site-packages (from matplotlib) (4.37.4)\n",
      "Requirement already satisfied: python-dateutil>=2.7 in /opt/homebrew/Cellar/jupyterlab/3.4.5/libexec/lib/python3.10/site-packages (from matplotlib) (2.8.2)\n",
      "Requirement already satisfied: six>=1.5 in /opt/homebrew/Cellar/six/1.16.0_2/lib/python3.10/site-packages (from python-dateutil>=2.7->matplotlib) (1.16.0)\n",
      "\n",
      "\u001b[1m[\u001b[0m\u001b[34;49mnotice\u001b[0m\u001b[1;39;49m]\u001b[0m\u001b[39;49m A new release of pip available: \u001b[0m\u001b[31;49m22.2.2\u001b[0m\u001b[39;49m -> \u001b[0m\u001b[32;49m22.3\u001b[0m\n",
      "\u001b[1m[\u001b[0m\u001b[34;49mnotice\u001b[0m\u001b[1;39;49m]\u001b[0m\u001b[39;49m To update, run: \u001b[0m\u001b[32;49mpython3.10 -m pip install --upgrade pip\u001b[0m\n"
     ]
    }
   ],
   "source": [
    "import sys\n",
    "!{sys.executable} -m pip install numpy\n",
    "import numpy as np\n",
    "import random\n",
    "!{sys.executable} -m pip install matplotlib\n",
    "import matplotlib.pyplot as plt\n",
    "import collections"
   ]
  },
  {
   "cell_type": "code",
   "execution_count": 51,
   "id": "7f18bd7b",
   "metadata": {},
   "outputs": [],
   "source": [
    "# this function models 100 prisoners going in to check 50 (out of 100) boxes \n",
    "# starting with the box that matches their prison number\n",
    "# if they find their prison number within 50 boxes\n",
    "# they live and the next prisoner does the same until all prisoners have their turn\n",
    "# if all prisoners live, then all prisoners live and that is one prison where everyone lives\n",
    "# if even one prisoner does not find their number within 50 boxes\n",
    "# no other prisoner will check\n",
    "# as all prisoners will die and that is one prison where everyone dies\n",
    "\n",
    "prisoners = list(range(1, 101, 1)) \n",
    "live_or_die = []\n",
    "\n",
    "def onehundred_prisoners (prisoners):\n",
    "    list_100 = list(range(1, 101, 1))                                       \n",
    "    boxes = [0]                                                         # index 0 will always be 0\n",
    "    boxes = boxes + random.sample(list_100, 100)                        # boxes 0 + random list from 1 - 100                                                                         \n",
    "    live = 0\n",
    "\n",
    "    for prison_number in prisoners:\n",
    "        box_count = 0\n",
    "        number_in_box = boxes [prison_number]                           # index position is same as prison_number\n",
    "        box_count += 1\n",
    "\n",
    "        while number_in_box != prison_number and box_count <50:         # while prison number not found in fewer than 50 boxes\n",
    "            number_in_box = boxes [number_in_box]                       # index position becomes the number in the previous box\n",
    "            box_count += 1\n",
    "        \n",
    "        if box_count == 50 and number_in_box != prison_number:          # if prison number not found in 50 boxes\n",
    "            live_or_die.append(\"die\")                                   # add \"die\" and break from the loop: if one dies, all die\n",
    "            break\n",
    "\n",
    "        else:\n",
    "            live += 1                                                   # if live, add 1\n",
    "            if live == 100:                                             # if all 100 live    \n",
    "                live_or_die.append(\"live\")                              # add \"live\"\n",
    "            continue\n",
    "    \n",
    "    return live_or_die"
   ]
  },
  {
   "cell_type": "code",
   "execution_count": 52,
   "id": "4054339e",
   "metadata": {},
   "outputs": [],
   "source": [
    "# this function simulates the 100 prisoners function 100 times (e.g. 100 prisons)\n",
    "# it finds the percentage of prisons where everyone lives\n",
    "# and returns a percentage\n",
    "\n",
    "def simulate_prisoners():    \n",
    "    for i in range (100):\n",
    "        simulation = onehundred_prisoners(prisoners)\n",
    "\n",
    "    live = live_or_die.count(\"live\")                                        # count the number of \"live\"\n",
    "    die = live_or_die.count(\"die\")                                          # count the number of \"die\"\n",
    "    percent_live = round((live/len(live_or_die)*100.00),2)                  # % live (should be approx 30%)\n",
    "    return percent_live\n",
    "    # print(percent_live,\"%\")"
   ]
  },
  {
   "cell_type": "code",
   "execution_count": 54,
   "id": "4496605c",
   "metadata": {},
   "outputs": [
    {
     "name": "stdout",
     "output_type": "stream",
     "text": [
      "\n",
      "this is the mean percentage of groups that all lived: 31.29\n"
     ]
    },
    {
     "data": {
      "text/plain": [
       "(array([ 2., 14., 32., 38., 14.]),\n",
       " array([31.13 , 31.186, 31.242, 31.298, 31.354, 31.41 ]),\n",
       " <BarContainer object of 5 artists>)"
      ]
     },
     "execution_count": 54,
     "metadata": {},
     "output_type": "execute_result"
    },
    {
     "data": {
      "image/png": "[encoded data removed]",
      "text/plain": [
       "<Figure size 432x288 with 1 Axes>"
      ]
     },
     "metadata": {
      "needs_background": "light"
     },
     "output_type": "display_data"
    }
   ],
   "source": [
    "# this function runs the above simulation 100 times (e.g. 100 prisons in each of 100 countries = 10,000 prisons)\n",
    "# it finds the mean average percentage of prisons where everyone lives\n",
    "# it prints the mean average\n",
    "# it plots the percentages in a histogram\n",
    "\n",
    "percentages_list = []\n",
    "for i in range (100): \n",
    "    mass_simulation = simulate_prisoners()\n",
    "    percentages_list.append(mass_simulation)\n",
    "\n",
    "average = np.mean(percentages_list)\n",
    "\n",
    "# print(\"here are the percentages of groups that all lived:\\n\",percentages_list)\n",
    "print (\"\\nthis is the mean percentage of groups that all lived:\",round(average,2))\n",
    "plt.hist(percentages_list, edgecolor=\"red\", bins = 5)"
   ]
  },
  {
   "cell_type": "code",
   "execution_count": 18,
   "id": "a2b822ea",
   "metadata": {},
   "outputs": [
    {
     "name": "stdout",
     "output_type": "stream",
     "text": [
      "percentage of prisons where everyone lived: 0.0\n"
     ]
    }
   ],
   "source": [
    "list_100 = list(range(1, 101, 1)) \n",
    "prisoners = list_100\n",
    "live_or_die = []\n",
    "\n",
    "def onehundred_prisoners_random(prisoners):\n",
    "    for prisoner in prisoners:\n",
    "        boxes = [0] \n",
    "        boxes = boxes + random.sample(list_100, 50)\n",
    "        live = 0\n",
    "\n",
    "        if prisoner not in boxes:\n",
    "            live_or_die.append(\"die\")\n",
    "            break\n",
    "\n",
    "        else:\n",
    "            live += 1                                                   # if live, add 1\n",
    "\n",
    "            if live == 100:                                             # if all 100 live    \n",
    "                live_or_die.append(\"live\")                              # add \"live\"\n",
    "            continue\n",
    "\n",
    "        return live_or_die\n",
    "    \n",
    "for i in range (250000):\n",
    "    simulation = onehundred_prisoners_random(prisoners)\n",
    "    \n",
    "simulation\n",
    "live = live_or_die.count(\"live\")                                    # count the number of \"live\"\n",
    "die = live_or_die.count(\"die\")                                      # count the number of \"die\"\n",
    "percentage_live = round(live/len(live_or_die)*100,2)\n",
    "print(\"percentage of prisons where everyone lived: {}\".format(percentage_live))"
   ]
  },
  {
   "cell_type": "code",
   "execution_count": null,
   "id": "8a5f61c2",
   "metadata": {},
   "outputs": [],
   "source": []
  }
 ],
 "metadata": {
  "kernelspec": {
   "display_name": "Python 3 (ipykernel)",
   "language": "python",
   "name": "python3"
  },
  "language_info": {
   "codemirror_mode": {
    "name": "ipython",
    "version": 3
   },
   "file_extension": ".py",
   "mimetype": "text/x-python",
   "name": "python",
   "nbconvert_exporter": "python",
   "pygments_lexer": "ipython3",
   "version": "3.10.6"
  }
 },
 "nbformat": 4,
 "nbformat_minor": 5
}
